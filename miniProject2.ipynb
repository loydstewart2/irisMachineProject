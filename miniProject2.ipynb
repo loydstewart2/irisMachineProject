{
 "cells": [
  {
   "cell_type": "markdown",
   "metadata": {},
   "source": [
    "# List the files in the same directory of the .ipynb file"
   ]
  },
  {
   "cell_type": "code",
   "execution_count": 1,
   "metadata": {},
   "outputs": [
    {
     "name": "stdout",
     "output_type": "stream",
     "text": [
      "['iris1.csv', 'iris2.csv', '.DS_Store', 'iris.html', 'Mini-projet-application2.pdf', 'iris1 copy.csv', 'iris.csv', 'Mini-project-application2-new.pdf', '.ipynb_checkpoints', 'miniProject2.ipynb']\n"
     ]
    }
   ],
   "source": [
    "import os\n",
    "print(os.listdir(\"/Users/gladia2or/Documents/School/Fall 18/Machine Learning/assignments/miniProject2\"))"
   ]
  },
  {
   "cell_type": "markdown",
   "metadata": {},
   "source": [
    "# Import the data"
   ]
  },
  {
   "cell_type": "code",
   "execution_count": 2,
   "metadata": {},
   "outputs": [],
   "source": [
    "import numpy as np\n",
    "import pandas as pd\n",
    "import matplotlib.pyplot as plt\n",
    "import seaborn as sns\n",
    "from sklearn import datasets\n",
    "%matplotlib inline\n",
    "\n",
    "iris=pd.read_csv('../miniProject2/iris2.csv')\n",
    "# iris = datasets.load_iris()\n",
    "# data = iris.data[:,[2,3]]\n",
    "# iris_df = pd.DataFrame(iris.data[:, [2, 3]], columns=iris.feature_names[2:])"
   ]
  },
  {
   "cell_type": "markdown",
   "metadata": {},
   "source": [
    "# View the first elements in the dataset"
   ]
  },
  {
   "cell_type": "code",
   "execution_count": 3,
   "metadata": {},
   "outputs": [
    {
     "data": {
      "text/html": [
       "<div>\n",
       "<style scoped>\n",
       "    .dataframe tbody tr th:only-of-type {\n",
       "        vertical-align: middle;\n",
       "    }\n",
       "\n",
       "    .dataframe tbody tr th {\n",
       "        vertical-align: top;\n",
       "    }\n",
       "\n",
       "    .dataframe thead th {\n",
       "        text-align: right;\n",
       "    }\n",
       "</style>\n",
       "<table border=\"1\" class=\"dataframe\">\n",
       "  <thead>\n",
       "    <tr style=\"text-align: right;\">\n",
       "      <th></th>\n",
       "      <th>petal_length</th>\n",
       "      <th>petal_width</th>\n",
       "      <th>species</th>\n",
       "    </tr>\n",
       "  </thead>\n",
       "  <tbody>\n",
       "    <tr>\n",
       "      <th>0</th>\n",
       "      <td>1.4</td>\n",
       "      <td>0.02</td>\n",
       "      <td>Iris-setosa</td>\n",
       "    </tr>\n",
       "    <tr>\n",
       "      <th>1</th>\n",
       "      <td>1.4</td>\n",
       "      <td>0.20</td>\n",
       "      <td>Iris-setosa</td>\n",
       "    </tr>\n",
       "    <tr>\n",
       "      <th>2</th>\n",
       "      <td>1.3</td>\n",
       "      <td>0.20</td>\n",
       "      <td>Iris-setosa</td>\n",
       "    </tr>\n",
       "    <tr>\n",
       "      <th>3</th>\n",
       "      <td>1.5</td>\n",
       "      <td>0.20</td>\n",
       "      <td>Iris-setosa</td>\n",
       "    </tr>\n",
       "    <tr>\n",
       "      <th>4</th>\n",
       "      <td>1.4</td>\n",
       "      <td>0.20</td>\n",
       "      <td>Iris-setosa</td>\n",
       "    </tr>\n",
       "  </tbody>\n",
       "</table>\n",
       "</div>"
      ],
      "text/plain": [
       "   petal_length  petal_width      species\n",
       "0           1.4         0.02  Iris-setosa\n",
       "1           1.4         0.20  Iris-setosa\n",
       "2           1.3         0.20  Iris-setosa\n",
       "3           1.5         0.20  Iris-setosa\n",
       "4           1.4         0.20  Iris-setosa"
      ]
     },
     "execution_count": 3,
     "metadata": {},
     "output_type": "execute_result"
    }
   ],
   "source": [
    "iris.head()"
   ]
  },
  {
   "cell_type": "code",
   "execution_count": 4,
   "metadata": {},
   "outputs": [
    {
     "name": "stdout",
     "output_type": "stream",
     "text": [
      "<class 'pandas.core.frame.DataFrame'>\n",
      "RangeIndex: 150 entries, 0 to 149\n",
      "Data columns (total 3 columns):\n",
      "petal_length    150 non-null float64\n",
      "petal_width     150 non-null float64\n",
      "species         150 non-null object\n",
      "dtypes: float64(2), object(1)\n",
      "memory usage: 3.6+ KB\n"
     ]
    }
   ],
   "source": [
    "iris.info()"
   ]
  },
  {
   "cell_type": "markdown",
   "metadata": {},
   "source": [
    "# Split the data into a tran & test set"
   ]
  },
  {
   "cell_type": "code",
   "execution_count": 5,
   "metadata": {},
   "outputs": [
    {
     "name": "stdout",
     "output_type": "stream",
     "text": [
      "(120, 2) (120,)\n",
      "(30, 2) (30,)\n"
     ]
    }
   ],
   "source": [
    "from sklearn.model_selection import train_test_split\n",
    "# X is the data\n",
    "x=iris.iloc[:,:-1]\n",
    "# Y is the answers\n",
    "y=iris.iloc[:,2]\n",
    "\n",
    "x_train,x_test, y_train, y_test=train_test_split(x,y,test_size=0.20)\n",
    "# x.head()\n",
    "# y.head()\n",
    "print (x_train.shape, y_train.shape) \n",
    "print (x_test.shape, y_test.shape) \n",
    "# print(x)\n",
    "# print(y)"
   ]
  },
  {
   "cell_type": "markdown",
   "metadata": {},
   "source": [
    "# Fit the model"
   ]
  },
  {
   "cell_type": "code",
   "execution_count": 6,
   "metadata": {},
   "outputs": [],
   "source": [
    "from sklearn import svm\n",
    "clf = svm.SVC(kernel='linear', C=1).fit(x_train, y_train) \n",
    "# print(clf.score(x_test, y_test))"
   ]
  },
  {
   "cell_type": "markdown",
   "metadata": {},
   "source": [
    "# Make predictions"
   ]
  },
  {
   "cell_type": "code",
   "execution_count": 7,
   "metadata": {},
   "outputs": [],
   "source": [
    "pred=clf.predict(x_test)\n",
    "# print(pred)"
   ]
  },
  {
   "cell_type": "markdown",
   "metadata": {},
   "source": [
    "# Evaluate the predictions"
   ]
  },
  {
   "cell_type": "code",
   "execution_count": 8,
   "metadata": {},
   "outputs": [
    {
     "name": "stdout",
     "output_type": "stream",
     "text": [
      "\n",
      "Confusion Matrix\n",
      " [[ 6  0  0]\n",
      " [ 0 10  0]\n",
      " [ 0  0 14]]\n",
      "\n",
      "Precision Score (weighted)\n",
      " 1.0\n",
      "\n",
      "Recall Score (weighted)\n",
      " 1.0\n",
      "\n",
      "F1 Score (weighted)\n",
      " 1.0\n"
     ]
    }
   ],
   "source": [
    "from sklearn.metrics import confusion_matrix\n",
    "print(\"\\nConfusion Matrix\\n\",confusion_matrix(y_test,pred))\n",
    "from sklearn.metrics import precision_score\n",
    "print(\"\\nPrecision Score (weighted)\\n\",precision_score(y_test,pred,average='weighted'))\n",
    "from sklearn.metrics import recall_score\n",
    "print(\"\\nRecall Score (weighted)\\n\",recall_score(y_test,pred,average='weighted'))\n",
    "from sklearn.metrics import f1_score\n",
    "print(\"\\nF1 Score (weighted)\\n\",f1_score(y_test,pred,average='weighted'))"
   ]
  },
  {
   "cell_type": "code",
   "execution_count": 9,
   "metadata": {},
   "outputs": [],
   "source": [
    "from sklearn.svm import SVC\n",
    "# svm= SVC()"
   ]
  },
  {
   "cell_type": "markdown",
   "metadata": {},
   "source": [
    "# Grid serarch to find the best parameters\n",
    "## I used parameters found at scikit-learn.org"
   ]
  },
  {
   "cell_type": "code",
   "execution_count": 10,
   "metadata": {},
   "outputs": [
    {
     "name": "stdout",
     "output_type": "stream",
     "text": [
      "Fitting 5 folds for each of 4 candidates, totalling 20 fits\n"
     ]
    },
    {
     "name": "stderr",
     "output_type": "stream",
     "text": [
      "[Parallel(n_jobs=1)]: Done  20 out of  20 | elapsed:    0.1s finished\n"
     ]
    }
   ],
   "source": [
    "from sklearn.model_selection import GridSearchCV\n",
    "\n",
    "parameters = {'kernel':('linear', 'rbf'), 'C':[1, 10]}\n",
    "grid = GridSearchCV(SVC(),parameters,refit=True,cv=5,verbose=1)\n",
    "grid.fit(x_train,y_train)\n",
    "\n",
    "grid_predictions = grid.predict(x_test)"
   ]
  },
  {
   "cell_type": "markdown",
   "metadata": {},
   "source": [
    "# Evaluate new predictions"
   ]
  },
  {
   "cell_type": "code",
   "execution_count": 11,
   "metadata": {},
   "outputs": [
    {
     "name": "stdout",
     "output_type": "stream",
     "text": [
      "\n",
      "Confusion Matrix\n",
      " [[ 6  0  0]\n",
      " [ 0 10  0]\n",
      " [ 0  0 14]]\n",
      "\n",
      "Precision Score (weighted)\n",
      " 1.0\n",
      "\n",
      "Recall Score (weighted)\n",
      " 1.0\n",
      "\n",
      "F1 Score (weighted)\n",
      " 1.0\n"
     ]
    }
   ],
   "source": [
    "from sklearn.metrics import confusion_matrix\n",
    "print(\"\\nConfusion Matrix\\n\",confusion_matrix(y_test,grid_predictions))\n",
    "from sklearn.metrics import precision_score\n",
    "print(\"\\nPrecision Score (weighted)\\n\",precision_score(y_test,grid_predictions,average='weighted'))\n",
    "from sklearn.metrics import recall_score\n",
    "print(\"\\nRecall Score (weighted)\\n\",recall_score(y_test,grid_predictions,average='weighted'))\n",
    "from sklearn.metrics import f1_score\n",
    "print(\"\\nF1 Score (weighted)\\n\",f1_score(y_test,grid_predictions,average='weighted'))"
   ]
  },
  {
   "cell_type": "markdown",
   "metadata": {},
   "source": [
    "# Our results both ways are always either the same or extremely close to one another"
   ]
  },
  {
   "cell_type": "code",
   "execution_count": null,
   "metadata": {},
   "outputs": [],
   "source": []
  }
 ],
 "metadata": {
  "kernelspec": {
   "display_name": "Python 3",
   "language": "python",
   "name": "python3"
  },
  "language_info": {
   "codemirror_mode": {
    "name": "ipython",
    "version": 3
   },
   "file_extension": ".py",
   "mimetype": "text/x-python",
   "name": "python",
   "nbconvert_exporter": "python",
   "pygments_lexer": "ipython3",
   "version": "3.6.5"
  }
 },
 "nbformat": 4,
 "nbformat_minor": 2
}
